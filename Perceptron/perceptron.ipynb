{
 "cells": [
  {
   "cell_type": "code",
   "execution_count": 1,
   "id": "b47dfcf5",
   "metadata": {},
   "outputs": [],
   "source": [
    "import numpy as np\n",
    "import pandas as pd"
   ]
  },
  {
   "cell_type": "code",
   "execution_count": null,
   "id": "26aa55f5",
   "metadata": {},
   "outputs": [],
   "source": [
    "class Perceptron:\n",
    "\n",
    "    def __init__(self):\n",
    "        self._weight = None\n",
    "        self.b = None\n",
    "\n",
    "    def fit(self, X, y):\n",
    "        # weight vector and bias\n",
    "        self._weight = np.zeros(len(X[0]))\n",
    "        self.b = 0\n",
    "        features = X \n",
    "        labels = y\n",
    "\n",
    "        for x, label in zip(features, labels):\n",
    "            calc = np.dot(x, self._weight) + self.b\n",
    "            if calc < 0 and label == 1:\n",
    "                self._weight += x\n",
    "                self.b += 1\n",
    "            if calc >= 0 and label == -1:\n",
    "                self._weight -= x\n",
    "                self.b -= 1\n",
    "                \n",
    "    def predict(self, X):\n",
    "        calc = np.dot(X, self._weight) + self.b\n",
    "        result = np.where(calc >= 0, 1, -1)\n",
    "        return result\n",
    "\n",
    "    def score(self, X, y):\n",
    "        predictions = self.predict(X)\n",
    "        correct_predictions = np.sum([x==y for x,y in zip(predictions,y)])\n",
    "        accuracy_score = correct_predictions / len(y)\n",
    "        return accuracy_score\n",
    "    \n",
    "    def weights_vector_print(self):\n",
    "        print(f'weights vector is:{self._weight}')\n",
    "\n"
   ]
  },
  {
   "cell_type": "code",
   "execution_count": null,
   "id": "6bd6b563",
   "metadata": {},
   "outputs": [],
   "source": [
    "df1 = pd.DataFrame(np.array([[-2, -1, -1], [0, 0, 1], [2, 1, 1],\n",
    "                             [1,2,1], [-2,2,-1], [-3,0,-1]]),\n",
    "                   columns=['x1', 'x2', 'Label'])\n",
    "labels1 = df1['Label'].values.tolist()\n",
    "features1 = df1[['x1','x2']].values.tolist()\n",
    "p1 = Perceptron()\n",
    "p1.fit(features1, labels1)\n",
    "print(p1.score(features1, labels1))\n",
    "\n",
    "p1.weights_vector_print()\n"
   ]
  },
  {
   "cell_type": "code",
   "execution_count": null,
   "id": "1ade7750",
   "metadata": {},
   "outputs": [],
   "source": [
    "df2 = pd.read_csv(\"Processed Wisconsin Diagnostic Breast Cancer.csv\")\n",
    "\n",
    "#shuffeling:\n",
    "df2= df2.sample(frac=1, random_state=42)\n",
    "\n",
    "#data-cleaning:\n",
    "df2[\"diagnosis1\"] = df2[\"diagnosis\"].apply(lambda x: 1 if x==1 else -1)\n",
    "\n",
    "#spliting 80% for train, 20% for test\n",
    "split_index = int(0.8 * len(df2))\n",
    "train_df = df2.iloc[:split_index]\n",
    "test_df = df2.iloc[split_index:]\n",
    "\n",
    "train_labels = train_df[\"diagnosis1\"].values.tolist()\n",
    "train_features = train_df.iloc[:,:-2].values.tolist()\n",
    "\n",
    "test_labels = test_df[\"diagnosis1\"].values.tolist()\n",
    "test_features = test_df.iloc[:,:-2].values.tolist()\n",
    "\n",
    "\n",
    "p2 = Perceptron()\n",
    "\n",
    "p2.fit(train_features,train_labels)\n",
    "score = p2.score(test_features, test_labels)\n",
    "print(f'the score is: {round(score,2)}')\n",
    "print(f'the training error is: {round(1-score,2)}')"
   ]
  }
 ],
 "metadata": {
  "kernelspec": {
   "display_name": "Python 3 (ipykernel)",
   "language": "python",
   "name": "python3"
  },
  "language_info": {
   "codemirror_mode": {
    "name": "ipython",
    "version": 3
   },
   "file_extension": ".py",
   "mimetype": "text/x-python",
   "name": "python",
   "nbconvert_exporter": "python",
   "pygments_lexer": "ipython3",
   "version": "3.11.5"
  }
 },
 "nbformat": 4,
 "nbformat_minor": 5
}
