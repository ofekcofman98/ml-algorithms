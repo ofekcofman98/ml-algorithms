{
 "cells": [
  {
   "cell_type": "code",
   "execution_count": 1,
   "id": "a5b42c97",
   "metadata": {},
   "outputs": [],
   "source": [
    "import numpy as np\n",
    "import pandas as pd\n",
    "import re\n",
    "\n",
    "import matplotlib.pyplot as plt\n",
    "from numpy.linalg import LinAlgError\n",
    "from sklearn.model_selection import train_test_split\n",
    "from sklearn.preprocessing import StandardScaler, PolynomialFeatures\n",
    "\n",
    "from sklearn.feature_extraction.text import CountVectorizer\n",
    "from sklearn import metrics\n",
    "from sklearn import datasets\n"
   ]
  },
  {
   "cell_type": "markdown",
   "id": "e2644b4f",
   "metadata": {},
   "source": [
    "#### question 1: Logistic Regression:"
   ]
  },
  {
   "cell_type": "code",
   "execution_count": 2,
   "id": "9450d1b4",
   "metadata": {},
   "outputs": [],
   "source": [
    "class LogisticRegression:\n",
    "    \n",
    "    def __init__(self, learning_rate=0.01, iterations=1000):\n",
    "        self.learning_rate = learning_rate\n",
    "        self.iterations = iterations\n",
    "        self._weights = None\n",
    "\n",
    "    def sigmoid(self, z):\n",
    "        # Clip the values to avoid overflow in exp\n",
    "        z = np.clip(z, -500, 500)\n",
    "        return 1 / (1 + np.exp(-z))\n",
    "\n",
    "    def fit(self, X, y):\n",
    "        num_of_samples, num_of_features = X.shape\n",
    "        self._weights = np.zeros(num_of_features)\n",
    "        \n",
    "        # Gradient decsent\n",
    "        for i in range(self.iterations):\n",
    "            linear_model = np.dot(X , self._weights)\n",
    "            y_pred = self.sigmoid(linear_model)\n",
    "            gradient = np.dot(X.T , (y_pred - y)) / num_of_samples\n",
    "            self._weights -= self.learning_rate * gradient     \n",
    "            \n",
    "    def predict(self, X):\n",
    "        linear_model = np.dot(X , self._weights)\n",
    "        y_pred = self.sigmoid(linear_model)\n",
    "        return np.where(y_pred >= 0.5, 1, 0)\n",
    " \n",
    "    def proba_predict(self, X):\n",
    "        linear_model = np.dot(X, self._weights)\n",
    "        return self.sigmoid(linear_model)\n",
    "\n",
    "    def score(self, X, y):\n",
    "        y_pred = self.predict(X)\n",
    "        return np.mean(y_pred == y)\n"
   ]
  },
  {
   "cell_type": "markdown",
   "id": "4a8cbf06",
   "metadata": {},
   "source": [
    "#### question 2:\n",
    "###### hey it takes maximum 1 minute"
   ]
  },
  {
   "cell_type": "code",
   "execution_count": 3,
   "id": "96fd881e",
   "metadata": {
    "scrolled": true
   },
   "outputs": [
    {
     "name": "stdout",
     "output_type": "stream",
     "text": [
      "Score: 0.945\n",
      "Weights vector: [-0.044, -0.16, -0.124, -0.042, -0.035, -0.026, -0.039, -0.042, -0.014, -0.015, -0.019, -0.085, 0.066, -0.054, -0.077, 0.013, -0.035, -0.019, -0.024, -0.012, 0.003, -0.041, -0.018, -0.023, -0.018, -0.023, 0.01, -0.333, -0.247, 0.044, 0.121, -0.037, -0.013, -0.026, -0.011, 0.004, -0.029, -0.012, -0.034, -0.064, -0.025, -0.074, 0.018, -0.047, 0.007, 0.007, -0.002, 0.005, 0.026, 0.001, 0.003, 0.005, 0.017, -0.002, -0.004, 0.01, 0.002, 0.009, -0.001, 0.044, -0.009, 0.004, -0.004, 0.005, 0.013, 0.012, 0.004, 0.001, 0.077, 0.006, -0.006, 0.012, 0.044, -0.119, 0.023, 0.061, -0.025, -0.038, 0.014, 0.069, 0.055, -0.008, 0.018, -0.013, -0.024, 0.006, -0.043, 0.053, -0.019, 0.032, 0.015, -0.017, -0.006, -0.023, -0.065, -0.01, -0.016, -0.013, -0.01, -0.003, 0.056, 0.016, -0.012, -0.019, -0.004, -0.021, -0.02, -0.013, -0.043, -0.024, 0.015, 0.001, 0.011, 0.087, -0.011, -0.012, -0.012, -0.008, -0.026, 0.02, -0.122, 0.0, -0.046, -0.004, -0.003, -0.009, -0.084, -0.004, -0.013, -0.048, 0.013, -0.006, -0.009, -0.094, 0.023, -0.003, 0.002, -0.225, -0.25, -0.043, 0.027, 0.019, 0.041, -0.006, 0.011, -0.013, -0.005, -0.109, -0.018, 0.021, -0.034, 0.011, 0.003, -0.018, -0.002, 0.018, 0.029, 0.11, 0.028, -0.015, 0.007, 0.003, -0.004, -0.094, -0.02, 0.011, -0.006, 0.007, 0.045, -0.005, -0.02, -0.009, 0.036, -0.017, 0.038, -0.022, -0.017, -0.083, -0.013, -0.068, -0.003, -0.004, 0.026, 0.007, 0.006, -0.01, -0.017, 0.01, 0.016, 0.012, -0.08, 0.018, -0.007, -0.02, -0.005, -0.013, -0.079, -0.026, -0.068, 0.02, -0.008, 0.015, -0.011, 0.009, -0.03, 0.065, 0.029, -0.002, -0.027, -0.009, 0.053, -0.003, -0.007, 0.005, -0.005, -0.007, 0.023, -0.038, 0.025, -0.033, 0.014, 0.028, 0.067, 0.002, -0.007, 0.012, 0.087, 0.012, -0.004, 0.013, 0.036, -0.016, -0.062, -0.021, 0.001, 0.008, -0.026, -0.051, 0.011, -0.008, 0.031, 0.008, -0.009, -0.021, 0.002, -0.023, 0.012, -0.001, -0.01, -0.01, 0.021, -0.015, -0.023, -0.017, 0.002, -0.008, -0.001, -0.101, -0.218, -0.03, -0.02, -0.012, -0.015, -0.043, -0.065, -0.027, 0.036, -0.282, -0.059, -0.01, -0.036, -0.036, -0.011, -0.031, 0.014, -0.043, 0.025, 0.018, -0.018, -0.034, -0.008, -0.002, 0.002, -0.009, 0.015, -0.075, 0.001, -0.01, 0.039, 0.012, -0.001, -0.015, -0.004, -0.001, -0.032, 0.007, 0.022, 0.05, -0.025, -0.035, -0.022, -0.022, -0.037, 0.002, -0.051, 0.03, -0.158, 0.0, -0.005, -0.055, -0.011, -0.014, -0.01, 0.08, -0.02, -0.057, -0.024, -0.025, -0.424, -0.004, -0.003, -0.013, -0.028, -0.017, -0.027, 0.011, -0.009, -0.004, 0.005, 0.025, 0.014, 0.025, 0.02, -0.005, 0.008, -0.001, -0.004, 0.008, 0.002, -0.001, -0.001, -0.019, -0.004, -0.01, 0.014, 0.012, 0.001, -0.059, -0.023, -0.027, -0.042, -0.039, -0.028, 0.01, 0.007, -0.02, -0.15, 0.005, -0.008, -0.001, 0.016, -0.006, -0.017, 0.008, -0.086, -0.021, 0.009, -0.082, -0.025, 0.037, 0.015, -0.021, -0.067, 0.015, -0.004, 0.037, -0.052, -0.075, -0.034, -0.027, 0.036, 0.024, 0.025, -0.044, -0.039, -0.03, -0.227, -0.017, -0.001, -0.007, 0.005, -0.016, 0.078, 0.012, 0.003, -0.003, -0.011, 0.017, -0.022, 0.013, 0.018, -0.003, 0.006, -0.032, 0.022, 0.005, -0.009, -0.006, -0.037, -0.143, -0.007, 0.022, 0.04, 0.008, -0.03, 0.022, 0.212, -0.002, 0.0, 0.051, 0.032, 0.01, 0.047, 0.03, -0.025, -0.017, -0.083, 0.014, -0.069, 0.02, -0.007, -0.025, -0.329, -0.017, -0.046, -0.09, -0.065, 0.025, -0.016, 0.055, 0.244, -0.013, -0.019, -0.155, -0.026, 0.006, -0.018, -0.022, -0.003, 0.006, 0.133, 0.029, 0.008, -0.007, 0.003, 0.02, -0.0, -0.011, 0.03, 0.07, 0.01, 0.008, 0.012, 0.013, 0.047, 0.02, -0.034, 0.01, 0.056, -0.011, -0.02, -0.022, 0.054, -0.031, 0.052, -0.034, -0.021, -0.023, -0.018, -0.015, -0.045, -0.017, -0.009, -0.022, -0.035, -0.013, -0.029, -0.065, -0.066, 0.008, -0.007, -0.007, -0.025, -0.009, -0.027, -0.148, -0.005, -0.004, -0.007, 0.0, 0.002, 0.002, -0.004, -0.018, -0.014, -0.001, 0.027, -0.118, 0.003, 0.04, 0.028, 0.023, 0.002, 0.047, -0.02, -0.035, -0.012, 0.012, -0.016, -0.019, -0.006, -0.008, -0.025, 0.0, 0.044, 0.018, 0.002, 0.052, 0.024, -0.003, 0.051, -0.002, -0.017, -0.017, -0.013, -0.002, 0.005, -0.001, 0.013, -0.069, -0.025, 0.017, 0.003, 0.034, -0.021, -0.014, 0.04, -0.079, -0.042, 0.022, 0.002, -0.043, 0.004, -0.05, -0.009, -0.067, 0.079, 0.005, -0.045, -0.036, -0.021, -0.003, 0.027, -0.254, -0.029, -0.02, -0.007, 0.022, -0.018, 0.059, -0.005, -0.022, -0.015, -0.033, 0.046, -0.124, -0.018, 0.052, -0.043, 0.126, -0.062, -0.018, 0.007, 0.156, -0.009, 0.042, 0.004, 0.036, 0.004, -0.018, 0.059, 0.001, -0.009, 0.012, 0.03, 0.006, -0.014, -0.004, -0.09, 0.015, -0.018, 0.054, 0.028, -0.021, 0.045, 0.009, -0.033, -0.002, 0.245, -0.183, -0.009, -0.117, -0.031, -0.06, -0.001, -0.016, 0.009, -0.038, 0.065, -0.026, -0.033, -0.026, -0.046, 0.105, 0.026, 0.048, 0.007, 0.017, 0.029, -0.018, -0.006, 0.029, 0.079, 0.149, 0.028, 0.007, -0.012, -0.012, -0.014, -0.003, -0.02, -0.064, -0.011, -0.034, -0.001, 0.134, 0.015, 0.058, 0.029, -0.035, -0.007, 0.071, -0.002, -0.004, -0.003, -0.0, 0.012, -0.025, -0.023, 0.023, 0.02, -0.026, -0.007, 0.009, -0.017, 0.001, -0.018, -0.007, -0.003, -0.035, 0.015, 0.051, -0.013, 0.06, -0.013, -0.039, 0.022, -0.03, -0.08, -0.232, 0.003, -0.114, -0.029, -0.006, -0.018, 0.002, -0.01, -0.006, 0.006, -0.004, 0.061, -0.002, 0.005, -0.002, 0.094, -0.012, -0.014, 0.023, 0.031, -0.014, -0.002, -0.016, 0.0, -0.006, 0.016, -0.035, 0.024, 0.055, -0.012, -0.009, -0.004, -0.001, 0.005, 0.012, -0.036, -0.014, -0.011, 0.052, -0.009, -0.118, -0.017, 0.014, 0.005, -0.003, 0.005, -0.01, 0.016, -0.0, 0.036, 0.028, 0.014, -0.007, -0.009, -0.027, -0.026, -0.023, 0.044, 0.01, -0.002, 0.002, -0.005, 0.0, 0.074, 0.042, 0.057, -0.005, -0.017, -0.023, -0.016, 0.022, -0.002, -0.029, -0.0, 0.038, 0.019, -0.018, -0.002, -0.052, -0.02, -0.008, -0.008, -0.006, -0.011, -0.03, -0.004, -0.002, 0.046, -0.032, 0.008, 0.002, 0.074, 0.016, -0.028, -0.019, -0.02, -0.003, -0.009, 0.028, 0.011, 0.022, 0.045, -0.151, 0.015, -0.005, -0.019, -0.02, -0.051, 0.023, -0.073, -0.01, -0.018, -0.015, 0.026, 0.013, -0.004, 0.026, -0.06, 0.006, -0.017, -0.013, 0.009, -0.007, -0.094, 0.034, 0.047, 0.013, -0.018, -0.029, 0.071, 0.047, -0.056, 0.004, -0.014, -0.019, -0.019, 0.006, 0.04, -0.017, -0.038, 0.011, 0.016, -0.018, -0.022, -0.016, -0.01, -0.01, 0.047, 0.009, -0.019, -0.006, -0.001, -0.021, -0.001, 0.042, 0.021, -0.01, 0.055, -0.011, 0.022, 0.004, -0.105, 0.01, -0.001, -0.029, -0.007, -0.021, -0.024, -0.02, -0.027, -0.008, 0.003, 0.032, -0.011, -0.056, -0.039, -0.007, 0.017, -0.061, 0.022, -0.066, 0.004, -0.062, -0.0, 0.002, 0.001, -0.111, 0.023, -0.07, 0.045, -0.022, -0.248, -0.064, -0.023, -0.035, -0.01, -0.052, 0.004, -0.037, -0.069, -0.008, -0.024, 0.011, 0.001, 0.002, -0.032, 0.007, 0.017, -0.03, -0.023, 0.0, -0.033, -0.054, -0.029, 0.021, 0.009, 0.018, -0.012, -0.024, -0.023, 0.011, 0.017, -0.022, 0.012, -0.007, -0.024, -0.021, -0.007, 0.034, -0.03, 0.016, -0.034, -0.026, -0.004, -0.036, -0.04, -0.002, -0.004, -0.028, -0.008, -0.007, -0.003, -0.02, -0.024, -0.066, -0.02, -0.019, 0.093, 0.028, 0.009, 0.009, 0.011, -0.001, -0.029, -0.013, -0.029, -0.022, 0.001, -0.018, 0.025, -0.017, 0.011, 0.028, 0.074, -0.004, 0.001, 0.02, -0.004, 0.009, -0.094, -0.086, -0.016, 0.023, -0.015, -0.038, 0.022, 0.022, 0.009, -0.055, 0.009, -0.034, -0.041, -0.008, -0.005, -0.003, 0.004, -0.034, -0.023, -0.008, -0.057, 0.001, -0.014, -0.002, 0.007, 0.016, 0.011, -0.227, 0.071, 0.018, 0.042, 0.028, 0.051, -0.01, -0.016, 0.038, 0.042, -0.055, 0.008, 0.122, -0.005, -0.284, 0.064, -0.043, 0.001, 0.011, -0.008, 0.051, 0.013, 0.115, -0.014, -0.009]\n"
     ]
    }
   ],
   "source": [
    "def preprocess_text(text):\n",
    "    unwanted_words = ['to', 'is', 'are', 'a','an', 'the', 'and','on','for','as','not']\n",
    "    #text = text.lower()\n",
    "    text = text.lower().replace('subject: ', '')\n",
    "    text = re.sub(r'[^\\w\\s]', '', text)\n",
    "    words =  text.split()\n",
    "    words = [word for word in words if word not in unwanted_words]\n",
    "    return ' '.join(words)\n",
    "\n",
    "df = pd.read_csv(\"spam_ham_dataset.csv\")\n",
    "df['text'] = df['text'].apply(preprocess_text)\n",
    "\n",
    "# Convert text data into numerical features using \"bag of words\" method\n",
    "vectorizer = CountVectorizer(max_features=1000)  \n",
    "X = vectorizer.fit_transform(df['text']).toarray()\n",
    "\n",
    "y = df['label_num'].values\n",
    "\n",
    "\n",
    "X_train, X_test, y_train, y_test = train_test_split(X, y, test_size=0.2)\n",
    "\n",
    "\n",
    "# Initialize and train the logistic regression model\n",
    "model = LogisticRegression(learning_rate=0.01, iterations=1000)\n",
    "model.fit(X_train, y_train)\n",
    "\n",
    "\n",
    "score = model.score(X_test, y_test)\n",
    "print(f\"Score: {round(score,3)}\")\n",
    "\n",
    "# Print the weights vector\n",
    "print(\"Weights vector:\", [round(x,3) for x in model._weights])\n"
   ]
  },
  {
   "cell_type": "markdown",
   "id": "66f909bc",
   "metadata": {},
   "source": [
    "#### question 3:"
   ]
  },
  {
   "cell_type": "code",
   "execution_count": 4,
   "id": "1f50080e",
   "metadata": {},
   "outputs": [
    {
     "data": {
      "image/png": "[encoded data removed]",
      "text/plain": [
       "<Figure size 640x480 with 1 Axes>"
      ]
     },
     "metadata": {},
     "output_type": "display_data"
    },
    {
     "name": "stdout",
     "output_type": "stream",
     "text": [
      "Best threshold is: 0.44\n"
     ]
    }
   ],
   "source": [
    "def ROC_curve(y_test, y_prob):\n",
    "    false_positive_rate , true_positive_rate, thresholds = metrics.roc_curve(y_test, y_prob)\n",
    "    \n",
    "    #print(thresholds)\n",
    "    plt.figure()\n",
    "    \n",
    "    plt.title(f'ROC Curve')\n",
    "    plt.xlabel('False Positive Rate')\n",
    "    plt.ylabel('True Positive Rate')\n",
    "\n",
    "    plt.plot(false_positive_rate, true_positive_rate, lw=2, label = 'ROC curve')\n",
    "    plt.legend(loc=\"lower right\")\n",
    "\n",
    "    plt.plot([0, 1], [0, 1], lw=2, linestyle='--')\n",
    "    plt.xlim([0.0, 1.0])\n",
    "    plt.ylim([0.0, 1.05])\n",
    "    \n",
    "    plt.show()\n",
    "    \n",
    "    return false_positive_rate, true_positive_rate, thresholds\n",
    "\n",
    "y_prob = model.proba_predict(X_test)\n",
    "\n",
    "fpr, tpr, thresholds = ROC_curve(y_test, y_prob)\n",
    "\n",
    "youden_index = tpr - fpr\n",
    "best_threshold_index = np.argmax(youden_index)\n",
    "best_threshold = thresholds[best_threshold_index]\n",
    "print(f\"Best threshold is: {round(best_threshold,2)}\")\n"
   ]
  },
  {
   "cell_type": "markdown",
   "id": "f2a55cf9",
   "metadata": {},
   "source": [
    "#### question 4: Multiclass Logistic Regression"
   ]
  },
  {
   "cell_type": "code",
   "execution_count": 5,
   "id": "e8474bf0",
   "metadata": {},
   "outputs": [],
   "source": [
    "class MulticlassLogisticRegression(LogisticRegression):\n",
    "    def __init__(self, learning_rate=0.01, iterations=1000):\n",
    "        super().__init__(learning_rate, iterations)\n",
    "        self._classes = None\n",
    "        \n",
    "        # a list that stores the logistic regression models for each class (one vs rest)\n",
    "        self.models = []\n",
    "        \n",
    "\n",
    "    def fit(self, X, y):\n",
    "        self._classes = np.unique(y)\n",
    "        num_of_classes = len(self._classes)\n",
    "        self.models = []\n",
    "\n",
    "        for c in self._classes:\n",
    "            model = LogisticRegression(learning_rate=self.learning_rate, iterations=self.iterations)\n",
    "            binary_y = np.where(y == c, 1, 0)\n",
    "            model.fit(X, binary_y)\n",
    "            self.models.append(model)\n",
    "\n",
    "    def predict(self, X):\n",
    "        y_prob = self.proba_predict(X)\n",
    "        return np.argmax(y_prob, axis=1)\n",
    "\n",
    "    def proba_predict(self, X):\n",
    "        num_of_classes = len(self._classes)\n",
    "        y_prob = np.zeros((X.shape[0], num_of_classes))\n",
    "        \n",
    "        for i, model in enumerate(self.models):\n",
    "            y_prob[:, i] = model.proba_predict(X)\n",
    "        \n",
    "        return y_prob\n"
   ]
  },
  {
   "cell_type": "code",
   "execution_count": 6,
   "id": "37fe2ff7",
   "metadata": {},
   "outputs": [
    {
     "name": "stdout",
     "output_type": "stream",
     "text": [
      "Score: 0.967\n",
      "class setosa, Weights vector: [-0.779, -0.682, 0.741, -1.023, -0.96, -0.168, -0.201, 0.098, 0.12, -0.259, -0.102, -0.163, 0.127, 0.109, 0.012]\n",
      "\n",
      "class versicolor, Weights vector: [0.559, 0.233, -0.441, 0.138, -0.056, -0.0, 0.191, -0.307, -0.336, 0.163, 0.294, 0.371, -0.585, -0.634, -0.733]\n",
      "\n",
      "class virginica, Weights vector: [-0.804, 0.448, -0.053, 0.726, 0.895, -0.152, 0.072, -0.017, -0.002, -0.394, 0.063, -0.011, 0.073, 0.14, 0.29]\n",
      "\n"
     ]
    }
   ],
   "source": [
    "iris = datasets.load_iris()\n",
    "X = iris.data\n",
    "y = iris.target\n",
    "\n",
    "df = pd.DataFrame(data=np.c_[iris['data'], iris['target']],\n",
    "                  columns=iris['feature_names'] + ['target'])\n",
    "\n",
    "X_train, X_test, y_train, y_test1 = train_test_split(df.iloc[:, :-1], df.iloc[:, -1], test_size=0.2, random_state=42)\n",
    "\n",
    "# Scaling the features\n",
    "scaler = StandardScaler()\n",
    "X_train_scaled = scaler.fit_transform(X_train)\n",
    "X_test_scaled = scaler.transform(X_test)\n",
    "\n",
    "#Polynomial features:\n",
    "poly = PolynomialFeatures(degree=2)\n",
    "X_train_poly = poly.fit_transform(X_train_scaled)\n",
    "X_test_poly = poly.transform(X_test_scaled)\n",
    "\n",
    "model = MulticlassLogisticRegression(learning_rate=0.01, iterations=1000)\n",
    "\n",
    "model.fit(X_train_poly, y_train)\n",
    "\n",
    "score = model.score(X_test_poly, y_test1)\n",
    "print(f\"Score: {round(score,3)}\")\n",
    "\n",
    "for class_name, model in zip(iris.target_names, model.models):\n",
    "    print(f\"class {class_name}, Weights vector:\", [round(x,3) for x in model._weights])\n",
    "    print(\"\")\n"
   ]
  },
  {
   "cell_type": "code",
   "execution_count": null,
   "id": "8bed25b2",
   "metadata": {},
   "outputs": [],
   "source": []
  }
 ],
 "metadata": {
  "kernelspec": {
   "display_name": "Python 3 (ipykernel)",
   "language": "python",
   "name": "python3"
  },
  "language_info": {
   "codemirror_mode": {
    "name": "ipython",
    "version": 3
   },
   "file_extension": ".py",
   "mimetype": "text/x-python",
   "name": "python",
   "nbconvert_exporter": "python",
   "pygments_lexer": "ipython3",
   "version": "3.11.5"
  }
 },
 "nbformat": 4,
 "nbformat_minor": 5
}
