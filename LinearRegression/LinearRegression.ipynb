{
 "cells": [
  {
   "cell_type": "code",
   "execution_count": 9,
   "metadata": {},
   "outputs": [],
   "source": [
    "import numpy as np\n",
    "import pandas as pd\n",
    "import matplotlib.pyplot as plt\n",
    "from numpy.linalg import LinAlgError\n",
    "from sklearn.model_selection import train_test_split\n",
    "from sklearn.datasets import fetch_california_housing\n",
    "from sklearn.preprocessing import PolynomialFeatures"
   ]
  },
  {
   "cell_type": "code",
   "execution_count": 10,
   "metadata": {},
   "outputs": [],
   "source": [
    "class LinearRegression:\n",
    "    \n",
    "    def __init__(self, learning_rate=0.01, num_of_iterations=1000):\n",
    "        self._weight = None\n",
    "        self.learning_rate = learning_rate\n",
    "        self.num_of_iterations = num_of_iterations\n",
    "        self.coef_ = None\n",
    "        self.intercept_ = None\n",
    "        \n",
    "    def fit(self, X, y):\n",
    "\n",
    "        try: \n",
    "            X_bias = np.c_[X, np.ones(X.shape[0])]\n",
    "            self._weight = (np.linalg.inv(X_bias.T@X_bias))@X_bias.T@y\n",
    "            self.intercept_ = self._weight[-1]\n",
    "            self.coef_ = self._weight[:-1]\n",
    "        \n",
    "        except LinAlgError:\n",
    "            print(\"LinAlgError: X is not an ivertible matrix.\")\n",
    "        \n",
    "\n",
    "        \n",
    "    def predict(self, X):\n",
    "        X_bias = np.c_[X, np.ones(X.shape[0])]\n",
    "        return X_bias @ self._weight\n",
    "\n",
    "    \n",
    "    def score(self, X, y):\n",
    "        y_true  = y\n",
    "        y_pred = self.predict(X)\n",
    "\n",
    "        sst = np.sum((y_true - y_true.mean())**2)\n",
    "        ssr = np.sum((y_pred - y_true)**2)\n",
    "        sse = sst - ssr\n",
    "        r_squared = 1 - ssr / sst\n",
    "        return r_squared\n",
    "    \n",
    "    \n",
    "    def weight_vector_print(self):\n",
    "        print(\"The weight vector: \", [round(x,3) for x in self._weight])\n",
    "       \n",
    "    def coef_intercept_print(self):\n",
    "        print(self.coef_[0], self.intercept_)\n",
    "    \n",
    "    def plot_it(self, X, y):\n",
    "        _, ax = plt.subplots(1,2, figsize=(12,4))\n",
    "        \n",
    "        ax[0].scatter(X, y)\n",
    "        ax[1].scatter(X, y)\n",
    "        \n",
    "        x = np.linspace(0, 5, 20)\n",
    "\n",
    "        ax[0].plot(x, self.coef_[0]*x + self.intercept_, 'g', label='Linear Regression')\n",
    "        \n",
    "        ax[0].plot(x, 2*x + 1, 'r:', label='Reference Line')\n",
    "        ax[1].plot(x, 2*x + 1, 'r:', label='Reference Line')\n",
    "            \n",
    "        ax[1].plot(x, self._weight[0]*x + self._weight[1], 'b', label='Reference Line')\n",
    "        \n",
    "        plt.legend()\n",
    "        plt.show()"
   ]
  },
  {
   "cell_type": "code",
   "execution_count": 14,
   "metadata": {},
   "outputs": [],
   "source": [
    "def shuffle_and_split(X, y):\n",
    "    return train_test_split(X, y, test_size=0.2, random_state=40)\n",
    "\n",
    "def dataframe_shuffle(df):\n",
    "    return df.sample(frac=1).reset_index(drop=True)\n"
   ]
  },
  {
   "cell_type": "markdown",
   "metadata": {},
   "source": [
    "#### main 1:"
   ]
  },
  {
   "cell_type": "code",
   "execution_count": 15,
   "metadata": {},
   "outputs": [
    {
     "name": "stdout",
     "output_type": "stream",
     "text": [
      "The weight vector:  [1.54, 10.034]\n",
      "the score is:  0.992\n"
     ]
    }
   ],
   "source": [
    "def main1():\n",
    "    df = pd.read_csv(\"simple_regression.csv\")\n",
    "\n",
    "    df1 = dataframe_shuffle(df)\n",
    "\n",
    "    X = df1['x']\n",
    "    y = df1['y']\n",
    "\n",
    "    linear_regression = LinearRegression()\n",
    "\n",
    "    X_train, X_test, y_train, y_test = shuffle_and_split(X,y)\n",
    "\n",
    "    linear_regression.fit(X_train, y_train)\n",
    "\n",
    "    linear_regression_score = linear_regression.score(X_test, y_test)\n",
    "\n",
    "    linear_regression.weight_vector_print()\n",
    "    print(\"the score is: \", round(linear_regression_score,3))\n",
    "    \n",
    "main1()"
   ]
  },
  {
   "cell_type": "markdown",
   "metadata": {},
   "source": [
    "#### main 2:"
   ]
  },
  {
   "cell_type": "code",
   "execution_count": 17,
   "metadata": {},
   "outputs": [
    {
     "name": "stdout",
     "output_type": "stream",
     "text": [
      "The weight vector:  [0.43, 0.009, -0.099, 0.596, -0.0, -0.005, -0.421, -0.434, -36.843]\n",
      "the score is:  0.608\n"
     ]
    }
   ],
   "source": [
    "def main2():\n",
    "    housing = fetch_california_housing()\n",
    "    X = housing.data\n",
    "    y = housing.target\n",
    "    linear_regression = LinearRegression()\n",
    "    X_train, X_test, y_train, y_test = shuffle_and_split(X,y)\n",
    "    linear_regression.fit(X_train, y_train)\n",
    "    linear_regression.weight_vector_print()\n",
    "    linear_regression_score = linear_regression.score(X_test, y_test)\n",
    "    print(\"the score is: \", round(linear_regression_score,3))\n",
    "\n",
    "main2()"
   ]
  },
  {
   "cell_type": "markdown",
   "metadata": {},
   "source": [
    "#### main3: "
   ]
  },
  {
   "cell_type": "code",
   "execution_count": 18,
   "metadata": {},
   "outputs": [],
   "source": [
    "def find_optimal_polynomial_degree(X, y):\n",
    "\n",
    "    optimal_linear_regression = None\n",
    "    best_degree = None\n",
    "    best_score = 0\n",
    "\n",
    "    scores = []\n",
    "    \n",
    "    for degree in range(1, 5):\n",
    "        \n",
    "        linear_regression = LinearRegression()\n",
    "\n",
    "        poly = PolynomialFeatures(degree, include_bias=False)\n",
    "        Z = poly.fit_transform(X)\n",
    "        \n",
    "        X_train, X_test, y_train, y_test = shuffle_and_split(Z, y)\n",
    "        linear_regression.fit(X_train, y_train)\n",
    "        \n",
    "        score = linear_regression.score(X_test, y_test)\n",
    "        scores.append(1 - score)\n",
    "                \n",
    "        if score > best_score:\n",
    "            optimal_linear_regression = linear_regression\n",
    "            best_degree = degree\n",
    "            best_score = score\n",
    "        \n",
    "    plt.plot(range(1, 5), scores, marker='o')\n",
    "    plt.ylabel(\"Score\")\n",
    "    plt.xlabel(\"Polynomial Degree\")\n",
    "    plt.title(\"Polynomial Degree vs Score\")\n",
    "    plt.grid()\n",
    "    plt.show()\n",
    "    return best_degree, optimal_linear_regression, best_score\n"
   ]
  },
  {
   "cell_type": "code",
   "execution_count": 19,
   "metadata": {},
   "outputs": [
    {
     "data": {
      "image/png": "[encoded data removed]",
      "text/plain": [
       "<Figure size 640x480 with 1 Axes>"
      ]
     },
     "metadata": {},
     "output_type": "display_data"
    },
    {
     "name": "stdout",
     "output_type": "stream",
     "text": [
      "The optimal degree: 2\n",
      "The weight vector:  [0.491, 0.004, -54.249, 2.078, 0.005, -0.0, -1.024, -0.028, -0.0, 0.997, -0.0, 80.849, 1.773, -0.126, -1.935]\n",
      "The best score: 0.999\n"
     ]
    }
   ],
   "source": [
    "def main3():\n",
    "    df = pd.read_csv(\"Students_on_Mars.csv\")\n",
    "    X = df.iloc[:, :-1].values\n",
    "    y = df.iloc[:, -1].values\n",
    "    best_degree, linear_regression, best_score = find_optimal_polynomial_degree(X, y)\n",
    "\n",
    "    print(\"The optimal degree:\", best_degree)\n",
    "    linear_regression.weight_vector_print()\n",
    "    print(\"The best score:\", round(best_score,3))\n",
    "    \n",
    "main3()"
   ]
  }
 ],
 "metadata": {
  "kernelspec": {
   "display_name": "Python 3 (ipykernel)",
   "language": "python",
   "name": "python3"
  },
  "language_info": {
   "codemirror_mode": {
    "name": "ipython",
    "version": 3
   },
   "file_extension": ".py",
   "mimetype": "text/x-python",
   "name": "python",
   "nbconvert_exporter": "python",
   "pygments_lexer": "ipython3",
   "version": "3.11.5"
  }
 },
 "nbformat": 4,
 "nbformat_minor": 4
}
